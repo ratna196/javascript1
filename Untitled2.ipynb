{
  "nbformat": 4,
  "nbformat_minor": 0,
  "metadata": {
    "colab": {
      "name": "Untitled2.ipynb",
      "provenance": [],
      "authorship_tag": "ABX9TyOVZRORUw94EnwIbJUmDoWM",
      "include_colab_link": true
    },
    "kernelspec": {
      "name": "python3",
      "display_name": "Python 3"
    },
    "language_info": {
      "name": "python"
    }
  },
  "cells": [
    {
      "cell_type": "markdown",
      "metadata": {
        "id": "view-in-github",
        "colab_type": "text"
      },
      "source": [
        "<a href=\"https://colab.research.google.com/github/ratna196/javascript1/blob/main/Untitled2.ipynb\" target=\"_parent\"><img src=\"https://colab.research.google.com/assets/colab-badge.svg\" alt=\"Open In Colab\"/></a>"
      ]
    },
    {
      "cell_type": "code",
      "metadata": {
        "id": "ZQmnMs6ek_uQ",
        "colab": {
          "base_uri": "https://localhost:8080/"
        },
        "outputId": "5a96b2ab-8500-4f78-85ed-9852f5febd16"
      },
      "source": [
        "import sys\n",
        "  \n",
        "# command line arguments are stored in the form\n",
        "# of list in sys.argv\n",
        "argumentList = sys.argv\n",
        "\n",
        "  \n",
        "# Print the name of file\n",
        "print(sys.argv[0])\n",
        "  \n",
        "# Print the first argument after the name of file\n",
        "print(sys.argv[1])"
      ],
      "execution_count": null,
      "outputs": [
        {
          "output_type": "stream",
          "name": "stdout",
          "text": [
            "/usr/local/lib/python3.7/dist-packages/ipykernel_launcher.py\n",
            "-f\n"
          ]
        }
      ]
    },
    {
      "cell_type": "code",
      "metadata": {
        "colab": {
          "base_uri": "https://localhost:8080/"
        },
        "id": "aL9460m2aTRZ",
        "outputId": "b715ebdd-92ff-46d0-ea5c-ba8a32ff0175"
      },
      "source": [
        "import numpy as np\n",
        "import math as mh\n",
        "\n",
        "a = np.array([3,1,1 ])   # Create a rank 1 array\n",
        "b = np.array([16,4,10,6,1,-8])\n",
        "\n",
        "N=3\n",
        "dict1={}\n",
        "\n",
        "list1= list(b)\n",
        "k=1\n",
        "#print(list1)\n",
        "for i in range(len(list1)-1):\n",
        "  \n",
        "  \n",
        "  for j in range(i+1,len(list1)):\n",
        "    print(list1[j])\n",
        "    if (abs(list1[i]-list1[j])==2*N):\n",
        "      \n",
        "      tmparr = np.array([list1[i],list1[j]])\n",
        "      print(tmparr)\n",
        "      dict1[k]=list(tmparr)\n",
        "      k=k+1\n",
        "      \n",
        "\n",
        "print(dict1)\n",
        "finallist=[]\n",
        "index=0\n",
        "for k in range(len(dict1)):\n",
        "  finallist.append(list(dict1.values())[k])\n",
        "  k=k+1\n",
        "\n",
        "print(finallist)"
      ],
      "execution_count": 8,
      "outputs": [
        {
          "output_type": "stream",
          "name": "stdout",
          "text": [
            "4\n",
            "10\n",
            "[16 10]\n",
            "6\n",
            "1\n",
            "-8\n",
            "10\n",
            "[ 4 10]\n",
            "6\n",
            "1\n",
            "-8\n",
            "6\n",
            "1\n",
            "-8\n",
            "1\n",
            "-8\n",
            "-8\n",
            "{1: [16, 10], 2: [4, 10]}\n",
            "[[16, 10], [4, 10]]\n"
          ]
        }
      ]
    },
    {
      "cell_type": "code",
      "metadata": {
        "colab": {
          "base_uri": "https://localhost:8080/"
        },
        "id": "FBqP2O-rfzhC",
        "outputId": "0199844f-4807-4a47-fc26-3ee9997bab8e"
      },
      "source": [
        "input1 = [5,2,'8 4 5 2 10']\n",
        "tmp=[]\n",
        "if input1[1]==2:\n",
        "  print(type(input1[2]))\n",
        "  for j in range(len(input1[2])-1):\n",
        "    \n",
        "    if ((\" \" not in input1[2][j]) and (\" \" not in input1[2][j+1])):\n",
        "      tmp.append(str(input1[2][j])+str(input1[2][j+1]))\n",
        "    else:\n",
        "      tmp.append(input1[2][j])\n",
        "print(tmp)\n",
        "for var in tmp:\n",
        "  if var.find(' ')>-1:\n",
        "    tmp.remove(var)\n",
        "\n",
        "print(\"nnnnn\",tmp)\n",
        "\n",
        "if input1[1]==2:  #groups   2*2-1    max element group\n",
        "  print(input1[1])\n",
        "  l1=[]\n",
        "  l2=[]\n",
        "  for t in range(0,len(tmp),2):\n",
        "        l1.append(tmp[t])\n",
        "        if(t-1>0):\n",
        "          l2.append(tmp[t-1])\n",
        "        #del tmp[t]\n",
        "print(str(l1)+\" \"+str(tmp)+\" \"+str(l2))\n",
        "\n",
        "op=['8','3','1 1 1 1 1 1 1 1']\n",
        "print(\"opppp\",op)\n",
        "print(type(op[2]))\n",
        "tmp1=[]\n",
        "p1=[]\n",
        "p2=[]\n",
        "if op[1]==3:\n",
        "  print(type(op[2]))\n",
        "  for j in range(len(op[2])-1):\n",
        "    \n",
        "    if ((\" \" not in op[2][j]) and (\" \" not in op[2][j+1])):\n",
        "      tmp1.append(str(op[2][j])+str(op[2][j+1]))\n",
        "    else:\n",
        "      tmp1.append(op[2][j])\n",
        "  print(tmp1)\n",
        "  for var in tmp1:\n",
        "    if var.find(' ')>-1:\n",
        "     tmp1.remove(var)\n",
        "\n",
        "  print(\"nnnnn\",tmp1)\n",
        "  for t in range(0,len(tmp1),2):\n",
        "        p1.append(tmp1[t])\n",
        "        if(t-1>0):\n",
        "          p2.append(tmp1[t-1])\n",
        "        #del tmp[t]\n",
        "  print(\"chhhh\"+str(p1)+\" \"+str(tmp1)+\" \"+str(p2))\n",
        "\n",
        "\n",
        "\n",
        "\n",
        "  \n",
        "  \n",
        "\n",
        "  \n",
        "\n",
        "\n",
        "\n",
        "\n",
        "     \n",
        "\n",
        "\n",
        "\n",
        "\n",
        "\n",
        "\n"
      ],
      "execution_count": 55,
      "outputs": [
        {
          "output_type": "stream",
          "name": "stdout",
          "text": [
            "<class 'str'>\n",
            "['8', ' ', '4', ' ', '5', ' ', '2', ' ', '10']\n",
            "nnnnn ['8', '4', '5', '2', '10']\n",
            "2\n",
            "['8', '5', '10'] ['8', '4', '5', '2', '10'] ['4', '2']\n",
            "opppp ['8', '3', '1 1 1 1 1 1 1 1']\n",
            "<class 'str'>\n"
          ]
        }
      ]
    }
  ]
}